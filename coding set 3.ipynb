{
 "cells": [
  {
   "cell_type": "code",
   "execution_count": 1,
   "id": "958a371c-8735-4828-bf8f-768c2f64b176",
   "metadata": {},
   "outputs": [],
   "source": [
    "# coding set 3"
   ]
  },
  {
   "cell_type": "code",
   "execution_count": null,
   "id": "121cdf97-db80-4395-b95a-1b49b919e243",
   "metadata": {},
   "outputs": [],
   "source": [
    "# algorithm work bench "
   ]
  },
  {
   "cell_type": "code",
   "execution_count": 14,
   "id": "371d82e6-e0db-47fe-81c3-e6c9dd918dbd",
   "metadata": {},
   "outputs": [],
   "source": [
    "# problem 4"
   ]
  },
  {
   "cell_type": "code",
   "execution_count": 15,
   "id": "01ba27a1-acaf-4a63-9865-e9dc182907f9",
   "metadata": {},
   "outputs": [
    {
     "ename": "SyntaxError",
     "evalue": "invalid syntax (2256235426.py, line 1)",
     "output_type": "error",
     "traceback": [
      "\u001b[0;36m  Cell \u001b[0;32mIn[15], line 1\u001b[0;36m\u001b[0m\n\u001b[0;31m    if score > = A_score:\u001b[0m\n\u001b[0m               ^\u001b[0m\n\u001b[0;31mSyntaxError\u001b[0m\u001b[0;31m:\u001b[0m invalid syntax\n"
     ]
    }
   ],
   "source": [
    "if score > = A_score:\n",
    "    print ('Your grade is A.')\n",
    "else: \n",
    "if score >= B_score:\n",
    "    \n"
   ]
  },
  {
   "cell_type": "code",
   "execution_count": 16,
   "id": "1fd63083-0902-4db6-879b-ee6410231812",
   "metadata": {},
   "outputs": [],
   "source": [
    "# problem 5"
   ]
  },
  {
   "cell_type": "code",
   "execution_count": 13,
   "id": "f898c7c6-c1f8-4670-8460-965e6484eac8",
   "metadata": {},
   "outputs": [
    {
     "ename": "SyntaxError",
     "evalue": "invalid syntax (256798196.py, line 9)",
     "output_type": "error",
     "traceback": [
      "\u001b[0;36m  Cell \u001b[0;32mIn[13], line 9\u001b[0;36m\u001b[0m\n\u001b[0;31m    else:\u001b[0m\n\u001b[0m    ^\u001b[0m\n\u001b[0;31mSyntaxError\u001b[0m\u001b[0;31m:\u001b[0m invalid syntax\n"
     ]
    }
   ],
   "source": [
    "if amount1 > 10:\n",
    "        if amoung2 < 100: \n",
    "                if amount1 > amount2: \n",
    "                    print: ('amount1') \n",
    "        else:\n",
    "             print('amount2') \n",
    "            else: \n",
    "                print:('Amount1 is not less than  100.') \n",
    "                    else: \n",
    "                            print:('Amount1 is not greater than 10')\n"
   ]
  },
  {
   "cell_type": "code",
   "execution_count": null,
   "id": "45df6463-0c35-465a-8bbe-9f5fce4880fd",
   "metadata": {},
   "outputs": [],
   "source": [
    "# Programming exercises "
   ]
  },
  {
   "cell_type": "code",
   "execution_count": null,
   "id": "18ab572b-d76e-4bd2-bac7-24c694da8e04",
   "metadata": {},
   "outputs": [],
   "source": [
    "# problem 1 "
   ]
  },
  {
   "cell_type": "code",
   "execution_count": null,
   "id": "56c66703-2f28-428a-b3c7-6164d954551c",
   "metadata": {},
   "outputs": [],
   "source": []
  }
 ],
 "metadata": {
  "kernelspec": {
   "display_name": "Python 3 (ipykernel)",
   "language": "python",
   "name": "python3"
  },
  "language_info": {
   "codemirror_mode": {
    "name": "ipython",
    "version": 3
   },
   "file_extension": ".py",
   "mimetype": "text/x-python",
   "name": "python",
   "nbconvert_exporter": "python",
   "pygments_lexer": "ipython3",
   "version": "3.11.7"
  }
 },
 "nbformat": 4,
 "nbformat_minor": 5
}
