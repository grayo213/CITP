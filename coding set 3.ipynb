{
 "cells": [
  {
   "cell_type": "code",
   "execution_count": 1,
   "id": "958a371c-8735-4828-bf8f-768c2f64b176",
   "metadata": {},
   "outputs": [],
   "source": [
    "# coding set 3"
   ]
  },
  {
   "cell_type": "code",
   "execution_count": null,
   "id": "121cdf97-db80-4395-b95a-1b49b919e243",
   "metadata": {},
   "outputs": [],
   "source": [
    "# algorithm work bench "
   ]
  },
  {
   "cell_type": "code",
   "execution_count": 14,
   "id": "371d82e6-e0db-47fe-81c3-e6c9dd918dbd",
   "metadata": {},
   "outputs": [],
   "source": [
    "# problem 4"
   ]
  },
  {
   "cell_type": "code",
   "execution_count": 15,
   "id": "01ba27a1-acaf-4a63-9865-e9dc182907f9",
   "metadata": {},
   "outputs": [
    {
     "ename": "SyntaxError",
     "evalue": "invalid syntax (2256235426.py, line 1)",
     "output_type": "error",
     "traceback": [
      "\u001b[0;36m  Cell \u001b[0;32mIn[15], line 1\u001b[0;36m\u001b[0m\n\u001b[0;31m    if score > = A_score:\u001b[0m\n\u001b[0m               ^\u001b[0m\n\u001b[0;31mSyntaxError\u001b[0m\u001b[0;31m:\u001b[0m invalid syntax\n"
     ]
    }
   ],
   "source": [
    "if score > = A_score:\n",
    "    print ('Your grade is A.')\n",
    "else: \n",
    "if score >= B_score:\n",
    "    \n"
   ]
  },
  {
   "cell_type": "code",
   "execution_count": 16,
   "id": "1fd63083-0902-4db6-879b-ee6410231812",
   "metadata": {},
   "outputs": [],
   "source": [
    "# problem 5"
   ]
  },
  {
   "cell_type": "code",
   "execution_count": 13,
   "id": "f898c7c6-c1f8-4670-8460-965e6484eac8",
   "metadata": {},
   "outputs": [
    {
     "ename": "SyntaxError",
     "evalue": "invalid syntax (256798196.py, line 9)",
     "output_type": "error",
     "traceback": [
      "\u001b[0;36m  Cell \u001b[0;32mIn[13], line 9\u001b[0;36m\u001b[0m\n\u001b[0;31m    else:\u001b[0m\n\u001b[0m    ^\u001b[0m\n\u001b[0;31mSyntaxError\u001b[0m\u001b[0;31m:\u001b[0m invalid syntax\n"
     ]
    }
   ],
   "source": [
    "if amount1 > 10:\n",
    "        if amoung2 < 100: \n",
    "                if amount1 > amount2: \n",
    "                    print: ('amount1') \n",
    "        else:\n",
    "             print('amount2') \n",
    "            else: \n",
    "                print:('Amount1 is not less than  100.') \n",
    "                    else: \n",
    "                            print:('Amount1 is not greater than 10')\n"
   ]
  },
  {
   "cell_type": "code",
   "execution_count": null,
   "id": "45df6463-0c35-465a-8bbe-9f5fce4880fd",
   "metadata": {},
   "outputs": [],
   "source": [
    "# Programming exercises "
   ]
  },
  {
   "cell_type": "code",
   "execution_count": null,
   "id": "18ab572b-d76e-4bd2-bac7-24c694da8e04",
   "metadata": {},
   "outputs": [],
   "source": [
    "# problem 1 "
   ]
  },
  {
   "cell_type": "code",
   "execution_count": null,
   "id": "56c66703-2f28-428a-b3c7-6164d954551c",
   "metadata": {},
   "outputs": [],
   "source": [
    "# See if the number is witthin the range\n",
    "if 1 <= day__nuumber <= 7:\n",
    "    # assign corresponding day of the week \n",
    "    if day_number == 1: \n",
    "        day = \"Monday\"\n",
    "    elif day_number == 2:\n",
    "        day = \"Tuesday\"\n",
    "    elif day_number == 3:\n",
    "        day = \"Wednesday\" \n",
    "    elif day_number == 4:\n",
    "        day = \"Thursday\"\n",
    "    elif day_number == 5: \n",
    "        day = \"Friday\" \n",
    "    elif day_number == 6:\n",
    "        day = \"Saturday\" \n",
    "    else: \n",
    "        day = \"Sunday\"\n",
    "\n",
    "#Display the corresponding day of the week \n",
    "print(\"The corresponding day of the week is:\", day)\n",
    "else: \n",
    "#Display error message from out of range input \n",
    "print(\"Error: Please enter a numver in the range of 1 throu)\n",
    "    "
   ]
  },
  {
   "cell_type": "code",
   "execution_count": null,
   "id": "3a59df36-9e48-4234-a14d-8134b42f8a7e",
   "metadata": {},
   "outputs": [],
   "source": [
    "#problem 5"
   ]
  },
  {
   "cell_type": "code",
   "execution_count": null,
   "id": "1fd58b73-074a-428f-92f8-644ce0c2fe9c",
   "metadata": {},
   "outputs": [],
   "source": [
    "#ask the user to enter the object's mass `\n",
    "mass = float(input(\"Enter the object's mass in kilograms:\"))"
   ]
  },
  {
   "cell_type": "code",
   "execution_count": null,
   "id": "4f310af2-a141-4261-9ec8-27dcff03b549",
   "metadata": {},
   "outputs": [],
   "source": [
    "#Calulate the weight in newtons \n",
    "weight = mass * 9.8"
   ]
  },
  {
   "cell_type": "code",
   "execution_count": 17,
   "id": "1431798a-8847-4cd1-943b-2fbee3a95a64",
   "metadata": {},
   "outputs": [
    {
     "ename": "SyntaxError",
     "evalue": "unterminated string literal (detected at line 9) (2912459991.py, line 9)",
     "output_type": "error",
     "traceback": [
      "\u001b[0;36m  Cell \u001b[0;32mIn[17], line 9\u001b[0;36m\u001b[0m\n\u001b[0;31m    print('The object's weight is\", weight, \"newtons.\")\u001b[0m\n\u001b[0m                                                     ^\u001b[0m\n\u001b[0;31mSyntaxError\u001b[0m\u001b[0;31m:\u001b[0m unterminated string literal (detected at line 9)\n"
     ]
    }
   ],
   "source": [
    "#Check if the weight is too heavy, too light, or within the aacceptable range \n",
    "if weight > 500:\n",
    "    print (\"The object is too heavy.\")\n",
    "elif weight < 100: \n",
    "    print (\"The object is too light.\")\n",
    "else: \n",
    "print:(\"The object's weight is within the acceptable range.\")\n",
    "# display the calulated weight \n",
    "print('The object's weight is\", weight, \"newtons.\")\n"
   ]
  },
  {
   "cell_type": "code",
   "execution_count": null,
   "id": "4a48de84-fc7f-4508-9a91-6fbca0ffcfd4",
   "metadata": {},
   "outputs": [],
   "source": [
    "# problem 15 "
   ]
  },
  {
   "cell_type": "code",
   "execution_count": null,
   "id": "89c65c67-5621-464f-812a-884ced89906e",
   "metadata": {},
   "outputs": [],
   "source": [
    "def main (main): \n",
    "    # Ask the uuser to ennter the number oofo seconds \n",
    "    total_seconds = int(input(\"Enter the number of seconds:))"
   ]
  },
  {
   "cell_type": "code",
   "execution_count": 18,
   "id": "2e754095-916e-4b53-9569-27a28dc9b087",
   "metadata": {},
   "outputs": [
    {
     "ename": "SyntaxError",
     "evalue": "unterminated string literal (detected at line 14) (1679056231.py, line 14)",
     "output_type": "error",
     "traceback": [
      "\u001b[0;36m  Cell \u001b[0;32mIn[18], line 14\u001b[0;36m\u001b[0m\n\u001b[0;31m    print (f{print hours, minutes, seconds\"} )\u001b[0m\n\u001b[0m                                          ^\u001b[0m\n\u001b[0;31mSyntaxError\u001b[0m\u001b[0;31m:\u001b[0m unterminated string literal (detected at line 14)\n"
     ]
    }
   ],
   "source": [
    "# Convert seconds to days, hours, minutes, and reamining seconds \n",
    "days = total_seconds // 86400\n",
    "remaining_seconds = total_seconds % 86400\n",
    "hours = remaining_seconds // 3600\n",
    "reamining_seconds % = 6- \n",
    "minutes = remaining_seconds // 6- \n",
    "seconds = remaining+seconds % 60 \n",
    "# Displays the result \n",
    "if days > 0: \n",
    "    print('f\"{days} days, {houurs} hours, {minutes} minutes, and {seconds} seconds')\n",
    "elif hours > 0:\n",
    "    print f(houors, seconds, minutes,\n",
    "elift minutes > 0: \n",
    "    print (f{print hours, minutes, seconds\"} ) \n",
    "\n",
    "             else: \n",
    "    print (f\"{minues} minutes and [seconds] seconds') \n",
    "\n",
    "__name__ == \"__main__\":\n",
    "    main()"
   ]
  },
  {
   "cell_type": "code",
   "execution_count": null,
   "id": "4db5ccce-69cd-4b0c-a853-2cb387df4352",
   "metadata": {},
   "outputs": [],
   "source": [
    "#problem 16"
   ]
  },
  {
   "cell_type": "code",
   "execution_count": 19,
   "id": "958df5aa-1e19-46a2-ba83-1ce38ab8fd22",
   "metadata": {},
   "outputs": [
    {
     "ename": "SyntaxError",
     "evalue": "invalid syntax (1173875914.py, line 4)",
     "output_type": "error",
     "traceback": [
      "\u001b[0;36m  Cell \u001b[0;32mIn[19], line 4\u001b[0;36m\u001b[0m\n\u001b[0;31m    else:\u001b[0m\n\u001b[0m    ^\u001b[0m\n\u001b[0;31mSyntaxError\u001b[0m\u001b[0;31m:\u001b[0m invalid syntax\n"
     ]
    }
   ],
   "source": [
    "def is_leap_year(year): \n",
    "    if year % 100 == 0: \n",
    "        return year % 4 == 0 \n",
    "else:\n",
    "return year % 4 == 0\n",
    "def days_in_february(year): \n",
    "    if is_leap_year(year): \n",
    "        return 29 \n",
    "else: \n",
    "return 28 \n",
    "def main():\n",
    "    year = int(input(\"Enter a year: \"))\n",
    "    days = days_in_f"
   ]
  },
  {
   "cell_type": "code",
   "execution_count": null,
   "id": "1532d062-40a4-45ef-8396-01fb3dcf48ca",
   "metadata": {},
   "outputs": [],
   "source": []
  }
 ],
 "metadata": {
  "kernelspec": {
   "display_name": "Python 3 (ipykernel)",
   "language": "python",
   "name": "python3"
  },
  "language_info": {
   "codemirror_mode": {
    "name": "ipython",
    "version": 3
   },
   "file_extension": ".py",
   "mimetype": "text/x-python",
   "name": "python",
   "nbconvert_exporter": "python",
   "pygments_lexer": "ipython3",
   "version": "3.11.7"
  }
 },
 "nbformat": 4,
 "nbformat_minor": 5
}
