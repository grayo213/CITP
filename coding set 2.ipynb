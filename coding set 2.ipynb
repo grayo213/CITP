{
 "cells": [
  {
   "cell_type": "raw",
   "id": "4f2e6cc5-1183-43bb-9aa4-91afa35bd295",
   "metadata": {},
   "source": [
    "## Coding set 2 "
   ]
  },
  {
   "cell_type": "code",
   "execution_count": 49,
   "id": "c3416d0e-e733-4c17-987b-85323f9c12ca",
   "metadata": {},
   "outputs": [],
   "source": [
    "## Algorithm Workbench Excercise 9"
   ]
  },
  {
   "cell_type": "code",
   "execution_count": 50,
   "id": "cea7cf22-8f7e-4410-9fb4-56af46ffacc4",
   "metadata": {
    "editable": true,
    "slideshow": {
     "slide_type": ""
    },
    "tags": []
   },
   "outputs": [
    {
     "name": "stdout",
     "output_type": "stream",
     "text": [
      "5\n"
     ]
    }
   ],
   "source": [
    "num = 99\n",
    "num = 5\n",
    "print (num) "
   ]
  },
  {
   "cell_type": "code",
   "execution_count": 55,
   "id": "ff7d2f11-8178-46c8-9ca5-12d366b9c5ed",
   "metadata": {
    "scrolled": true
   },
   "outputs": [],
   "source": [
    "## Programming Excercise 9 "
   ]
  },
  {
   "cell_type": "code",
   "execution_count": 56,
   "id": "94d67c74-5043-4c1b-9729-decc3f0768a2",
   "metadata": {},
   "outputs": [],
   "source": [
    "#Input Student Info\n",
    "Name = \"Olivia Gray\"\n",
    "Address = \"1722 GreenLeaf Drive Royal Oak48067\"\n",
    "Number = \"248,320,0048\"\n",
    "CollegeMajor = \"hospitality and mangagement\""
   ]
  },
  {
   "cell_type": "code",
   "execution_count": 57,
   "id": "94c1a971-879c-4282-9177-609a51cee274",
   "metadata": {},
   "outputs": [
    {
     "name": "stdout",
     "output_type": "stream",
     "text": [
      "Olivia Gray\n",
      "1722 GreenLeaf Drive Royal Oak48067\n",
      "248,320,0048\n",
      "hospitality and mangagement\n"
     ]
    }
   ],
   "source": [
    "#Print Student Info\n",
    "print(Name)\n",
    "print(Address)\n",
    "print (Number)\n",
    "print (CollegeMajor)"
   ]
  },
  {
   "cell_type": "code",
   "execution_count": 59,
   "id": "2efbd59d-b4b3-4ad3-9c90-6cb918ce055a",
   "metadata": {},
   "outputs": [],
   "source": [
    "## Programming Exercise 13 (planting grapevines) \n"
   ]
  },
  {
   "cell_type": "code",
   "execution_count": null,
   "id": "53a20688-c5a3-4864-bdec-013758ac30cb",
   "metadata": {},
   "outputs": [],
   "source": [
    "R = float (input(\"Enter thte length of the row in feet:\"))\n",
    "E = float (input(\"Enter the amoount of space used by an end-post assembly, in feet:\"))\n",
    "S = float (input(\"Enter the space between vines, in feet:\"))\n",
    "\n",
    "# Number of Vines \n",
    "V = (R - 4 * E) / S\n",
    "\n",
    "# Out put \n",
    "print(f \"The number of grapeivnes that will fit in the row: {int(V)}\")"
   ]
  },
  {
   "cell_type": "code",
   "execution_count": null,
   "id": "da9c3529-b73b-48a3-9673-2f9d0e6dd5a0",
   "metadata": {},
   "outputs": [],
   "source": []
  }
 ],
 "metadata": {
  "kernelspec": {
   "display_name": "Python 3 (ipykernel)",
   "language": "python",
   "name": "python3"
  },
  "language_info": {
   "codemirror_mode": {
    "name": "ipython",
    "version": 3
   },
   "file_extension": ".py",
   "mimetype": "text/x-python",
   "name": "python",
   "nbconvert_exporter": "python",
   "pygments_lexer": "ipython3",
   "version": "3.11.7"
  }
 },
 "nbformat": 4,
 "nbformat_minor": 5
}
